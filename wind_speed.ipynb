{
 "cells": [
  {
   "cell_type": "code",
   "execution_count": null,
   "metadata": {},
   "outputs": [],
   "source": [
    "import numpy as np \n",
    "import pandas as pd \n",
    "import matplotlib.pyplot as plt\n",
    "import seaborn as sns\n",
    "\n",
    "import os\n",
    "for dirname, _, filenames in os.walk('/input'):\n",
    "    for filename in filenames:\n",
    "        print(os.path.join(dirname, filename))\n"
   ]
  },
  {
   "cell_type": "markdown",
   "metadata": {},
   "source": [
    "importing data"
   ]
  },
  {
   "cell_type": "code",
   "execution_count": 2,
   "metadata": {
    "execution": {
     "iopub.execute_input": "2022-10-11T19:46:59.919517Z",
     "iopub.status.busy": "2022-10-11T19:46:59.916194Z",
     "iopub.status.idle": "2022-10-11T19:47:00.010922Z",
     "shell.execute_reply": "2022-10-11T19:46:59.967398Z",
     "shell.execute_reply.started": "2022-10-11T19:46:59.919391Z"
    }
   },
   "outputs": [],
   "source": [
    "df = pd.read_csv('wind_dataset.csv')"
   ]
  },
  {
   "cell_type": "code",
   "execution_count": 3,
   "metadata": {
    "execution": {
     "iopub.execute_input": "2022-10-11T19:47:00.020146Z",
     "iopub.status.busy": "2022-10-11T19:47:00.016848Z",
     "iopub.status.idle": "2022-10-11T19:47:00.059603Z",
     "shell.execute_reply": "2022-10-11T19:47:00.058609Z",
     "shell.execute_reply.started": "2022-10-11T19:47:00.020084Z"
    },
    "scrolled": true
   },
   "outputs": [
    {
     "data": {
      "text/html": [
       "<div>\n",
       "<style scoped>\n",
       "    .dataframe tbody tr th:only-of-type {\n",
       "        vertical-align: middle;\n",
       "    }\n",
       "\n",
       "    .dataframe tbody tr th {\n",
       "        vertical-align: top;\n",
       "    }\n",
       "\n",
       "    .dataframe thead th {\n",
       "        text-align: right;\n",
       "    }\n",
       "</style>\n",
       "<table border=\"1\" class=\"dataframe\">\n",
       "  <thead>\n",
       "    <tr style=\"text-align: right;\">\n",
       "      <th></th>\n",
       "      <th>DATE</th>\n",
       "      <th>WIND</th>\n",
       "      <th>IND</th>\n",
       "      <th>RAIN</th>\n",
       "      <th>IND.1</th>\n",
       "      <th>T.MAX</th>\n",
       "      <th>IND.2</th>\n",
       "      <th>T.MIN</th>\n",
       "      <th>T.MIN.G</th>\n",
       "    </tr>\n",
       "  </thead>\n",
       "  <tbody>\n",
       "    <tr>\n",
       "      <th>0</th>\n",
       "      <td>1961-01-01</td>\n",
       "      <td>13.67</td>\n",
       "      <td>0</td>\n",
       "      <td>0.2</td>\n",
       "      <td>0.0</td>\n",
       "      <td>9.5</td>\n",
       "      <td>0.0</td>\n",
       "      <td>3.7</td>\n",
       "      <td>-1.0</td>\n",
       "    </tr>\n",
       "    <tr>\n",
       "      <th>1</th>\n",
       "      <td>1961-01-02</td>\n",
       "      <td>11.50</td>\n",
       "      <td>0</td>\n",
       "      <td>5.1</td>\n",
       "      <td>0.0</td>\n",
       "      <td>7.2</td>\n",
       "      <td>0.0</td>\n",
       "      <td>4.2</td>\n",
       "      <td>1.1</td>\n",
       "    </tr>\n",
       "    <tr>\n",
       "      <th>2</th>\n",
       "      <td>1961-01-03</td>\n",
       "      <td>11.25</td>\n",
       "      <td>0</td>\n",
       "      <td>0.4</td>\n",
       "      <td>0.0</td>\n",
       "      <td>5.5</td>\n",
       "      <td>0.0</td>\n",
       "      <td>0.5</td>\n",
       "      <td>-0.5</td>\n",
       "    </tr>\n",
       "    <tr>\n",
       "      <th>3</th>\n",
       "      <td>1961-01-04</td>\n",
       "      <td>8.63</td>\n",
       "      <td>0</td>\n",
       "      <td>0.2</td>\n",
       "      <td>0.0</td>\n",
       "      <td>5.6</td>\n",
       "      <td>0.0</td>\n",
       "      <td>0.4</td>\n",
       "      <td>-3.2</td>\n",
       "    </tr>\n",
       "    <tr>\n",
       "      <th>4</th>\n",
       "      <td>1961-01-05</td>\n",
       "      <td>11.92</td>\n",
       "      <td>0</td>\n",
       "      <td>10.4</td>\n",
       "      <td>0.0</td>\n",
       "      <td>7.2</td>\n",
       "      <td>1.0</td>\n",
       "      <td>-1.5</td>\n",
       "      <td>-7.5</td>\n",
       "    </tr>\n",
       "  </tbody>\n",
       "</table>\n",
       "</div>"
      ],
      "text/plain": [
       "         DATE   WIND  IND  RAIN  IND.1  T.MAX  IND.2  T.MIN  T.MIN.G\n",
       "0  1961-01-01  13.67    0   0.2    0.0    9.5    0.0    3.7     -1.0\n",
       "1  1961-01-02  11.50    0   5.1    0.0    7.2    0.0    4.2      1.1\n",
       "2  1961-01-03  11.25    0   0.4    0.0    5.5    0.0    0.5     -0.5\n",
       "3  1961-01-04   8.63    0   0.2    0.0    5.6    0.0    0.4     -3.2\n",
       "4  1961-01-05  11.92    0  10.4    0.0    7.2    1.0   -1.5     -7.5"
      ]
     },
     "execution_count": 3,
     "metadata": {},
     "output_type": "execute_result"
    }
   ],
   "source": [
    "df.head()"
   ]
  },
  {
   "cell_type": "code",
   "execution_count": 4,
   "metadata": {
    "execution": {
     "iopub.execute_input": "2022-10-11T19:47:00.118136Z",
     "iopub.status.busy": "2022-10-11T19:47:00.115289Z",
     "iopub.status.idle": "2022-10-11T19:47:00.155650Z",
     "shell.execute_reply": "2022-10-11T19:47:00.154539Z",
     "shell.execute_reply.started": "2022-10-11T19:47:00.118078Z"
    }
   },
   "outputs": [
    {
     "name": "stdout",
     "output_type": "stream",
     "text": [
      "<class 'pandas.core.frame.DataFrame'>\n",
      "RangeIndex: 6574 entries, 0 to 6573\n",
      "Data columns (total 9 columns):\n",
      " #   Column   Non-Null Count  Dtype  \n",
      "---  ------   --------------  -----  \n",
      " 0   DATE     6574 non-null   object \n",
      " 1   WIND     6574 non-null   float64\n",
      " 2   IND      6574 non-null   int64  \n",
      " 3   RAIN     6574 non-null   float64\n",
      " 4   IND.1    6513 non-null   float64\n",
      " 5   T.MAX    5953 non-null   float64\n",
      " 6   IND.2    6513 non-null   float64\n",
      " 7   T.MIN    5900 non-null   float64\n",
      " 8   T.MIN.G  6214 non-null   float64\n",
      "dtypes: float64(7), int64(1), object(1)\n",
      "memory usage: 462.4+ KB\n"
     ]
    }
   ],
   "source": [
    "df.info()"
   ]
  },
  {
   "cell_type": "code",
   "execution_count": 5,
   "metadata": {
    "execution": {
     "iopub.execute_input": "2022-10-11T19:47:00.163938Z",
     "iopub.status.busy": "2022-10-11T19:47:00.161311Z",
     "iopub.status.idle": "2022-10-11T19:47:00.228511Z",
     "shell.execute_reply": "2022-10-11T19:47:00.227456Z",
     "shell.execute_reply.started": "2022-10-11T19:47:00.163892Z"
    }
   },
   "outputs": [],
   "source": [
    "# We need to convert the DATE dtype from object to a datetime\n",
    "\n",
    "df['DATE'] = pd.to_datetime(df['DATE'])\n",
    "\n",
    "df['YEAR'] = df['DATE'].dt.year\n",
    "df['MONTH'] = df['DATE'].dt.month\n",
    "df['DAY'] = df['DATE'].dt.day"
   ]
  },
  {
   "cell_type": "code",
   "execution_count": 6,
   "metadata": {
    "execution": {
     "iopub.execute_input": "2022-10-11T19:47:00.236655Z",
     "iopub.status.busy": "2022-10-11T19:47:00.233989Z",
     "iopub.status.idle": "2022-10-11T19:47:00.318580Z",
     "shell.execute_reply": "2022-10-11T19:47:00.317663Z",
     "shell.execute_reply.started": "2022-10-11T19:47:00.236586Z"
    }
   },
   "outputs": [
    {
     "data": {
      "text/html": [
       "<div>\n",
       "<style scoped>\n",
       "    .dataframe tbody tr th:only-of-type {\n",
       "        vertical-align: middle;\n",
       "    }\n",
       "\n",
       "    .dataframe tbody tr th {\n",
       "        vertical-align: top;\n",
       "    }\n",
       "\n",
       "    .dataframe thead th {\n",
       "        text-align: right;\n",
       "    }\n",
       "</style>\n",
       "<table border=\"1\" class=\"dataframe\">\n",
       "  <thead>\n",
       "    <tr style=\"text-align: right;\">\n",
       "      <th></th>\n",
       "      <th>DATE</th>\n",
       "      <th>WIND</th>\n",
       "      <th>IND</th>\n",
       "      <th>RAIN</th>\n",
       "      <th>IND.1</th>\n",
       "      <th>T.MAX</th>\n",
       "      <th>IND.2</th>\n",
       "      <th>T.MIN</th>\n",
       "      <th>T.MIN.G</th>\n",
       "      <th>YEAR</th>\n",
       "      <th>MONTH</th>\n",
       "      <th>DAY</th>\n",
       "    </tr>\n",
       "  </thead>\n",
       "  <tbody>\n",
       "    <tr>\n",
       "      <th>0</th>\n",
       "      <td>1961-01-01</td>\n",
       "      <td>13.67</td>\n",
       "      <td>0</td>\n",
       "      <td>0.2</td>\n",
       "      <td>0.0</td>\n",
       "      <td>9.5</td>\n",
       "      <td>0.0</td>\n",
       "      <td>3.7</td>\n",
       "      <td>-1.0</td>\n",
       "      <td>1961</td>\n",
       "      <td>1</td>\n",
       "      <td>1</td>\n",
       "    </tr>\n",
       "    <tr>\n",
       "      <th>1</th>\n",
       "      <td>1961-01-02</td>\n",
       "      <td>11.50</td>\n",
       "      <td>0</td>\n",
       "      <td>5.1</td>\n",
       "      <td>0.0</td>\n",
       "      <td>7.2</td>\n",
       "      <td>0.0</td>\n",
       "      <td>4.2</td>\n",
       "      <td>1.1</td>\n",
       "      <td>1961</td>\n",
       "      <td>1</td>\n",
       "      <td>2</td>\n",
       "    </tr>\n",
       "    <tr>\n",
       "      <th>2</th>\n",
       "      <td>1961-01-03</td>\n",
       "      <td>11.25</td>\n",
       "      <td>0</td>\n",
       "      <td>0.4</td>\n",
       "      <td>0.0</td>\n",
       "      <td>5.5</td>\n",
       "      <td>0.0</td>\n",
       "      <td>0.5</td>\n",
       "      <td>-0.5</td>\n",
       "      <td>1961</td>\n",
       "      <td>1</td>\n",
       "      <td>3</td>\n",
       "    </tr>\n",
       "    <tr>\n",
       "      <th>3</th>\n",
       "      <td>1961-01-04</td>\n",
       "      <td>8.63</td>\n",
       "      <td>0</td>\n",
       "      <td>0.2</td>\n",
       "      <td>0.0</td>\n",
       "      <td>5.6</td>\n",
       "      <td>0.0</td>\n",
       "      <td>0.4</td>\n",
       "      <td>-3.2</td>\n",
       "      <td>1961</td>\n",
       "      <td>1</td>\n",
       "      <td>4</td>\n",
       "    </tr>\n",
       "    <tr>\n",
       "      <th>4</th>\n",
       "      <td>1961-01-05</td>\n",
       "      <td>11.92</td>\n",
       "      <td>0</td>\n",
       "      <td>10.4</td>\n",
       "      <td>0.0</td>\n",
       "      <td>7.2</td>\n",
       "      <td>1.0</td>\n",
       "      <td>-1.5</td>\n",
       "      <td>-7.5</td>\n",
       "      <td>1961</td>\n",
       "      <td>1</td>\n",
       "      <td>5</td>\n",
       "    </tr>\n",
       "  </tbody>\n",
       "</table>\n",
       "</div>"
      ],
      "text/plain": [
       "        DATE   WIND  IND  RAIN  IND.1  T.MAX  IND.2  T.MIN  T.MIN.G  YEAR  \\\n",
       "0 1961-01-01  13.67    0   0.2    0.0    9.5    0.0    3.7     -1.0  1961   \n",
       "1 1961-01-02  11.50    0   5.1    0.0    7.2    0.0    4.2      1.1  1961   \n",
       "2 1961-01-03  11.25    0   0.4    0.0    5.5    0.0    0.5     -0.5  1961   \n",
       "3 1961-01-04   8.63    0   0.2    0.0    5.6    0.0    0.4     -3.2  1961   \n",
       "4 1961-01-05  11.92    0  10.4    0.0    7.2    1.0   -1.5     -7.5  1961   \n",
       "\n",
       "   MONTH  DAY  \n",
       "0      1    1  \n",
       "1      1    2  \n",
       "2      1    3  \n",
       "3      1    4  \n",
       "4      1    5  "
      ]
     },
     "execution_count": 6,
     "metadata": {},
     "output_type": "execute_result"
    }
   ],
   "source": [
    "df.head()"
   ]
  },
  {
   "cell_type": "code",
   "execution_count": 9,
   "metadata": {
    "execution": {
     "iopub.execute_input": "2022-10-11T19:47:00.423255Z",
     "iopub.status.busy": "2022-10-11T19:47:00.422664Z",
     "iopub.status.idle": "2022-10-11T19:47:00.434326Z",
     "shell.execute_reply": "2022-10-11T19:47:00.433325Z",
     "shell.execute_reply.started": "2022-10-11T19:47:00.423195Z"
    }
   },
   "outputs": [
    {
     "data": {
      "text/plain": [
       "1777"
      ]
     },
     "execution_count": 9,
     "metadata": {},
     "output_type": "execute_result"
    }
   ],
   "source": [
    "# Check for null values\n",
    "\n",
    "df.isnull().sum().sum()"
   ]
  },
  {
   "cell_type": "code",
   "execution_count": 10,
   "metadata": {
    "execution": {
     "iopub.execute_input": "2022-10-11T19:47:00.443880Z",
     "iopub.status.busy": "2022-10-11T19:47:00.443169Z",
     "iopub.status.idle": "2022-10-11T19:47:01.667479Z",
     "shell.execute_reply": "2022-10-11T19:47:01.666403Z",
     "shell.execute_reply.started": "2022-10-11T19:47:00.443831Z"
    }
   },
   "outputs": [
    {
     "data": {
      "text/plain": [
       "<AxesSubplot:>"
      ]
     },
     "execution_count": 10,
     "metadata": {},
     "output_type": "execute_result"
    },
    {
     "data": {
      "image/png": "[encoded data removed]",
      "text/plain": [
       "<Figure size 432x288 with 2 Axes>"
      ]
     },
     "metadata": {
      "needs_background": "light"
     },
     "output_type": "display_data"
    }
   ],
   "source": [
    "sns.heatmap(df.isnull())"
   ]
  },
  {
   "cell_type": "code",
   "execution_count": 14,
   "metadata": {
    "execution": {
     "iopub.execute_input": "2022-10-11T19:47:02.767511Z",
     "iopub.status.busy": "2022-10-11T19:47:02.762425Z",
     "iopub.status.idle": "2022-10-11T19:47:02.787151Z",
     "shell.execute_reply": "2022-10-11T19:47:02.785182Z",
     "shell.execute_reply.started": "2022-10-11T19:47:02.767452Z"
    }
   },
   "outputs": [],
   "source": [
    "X = df.drop(['WIND'], axis=1)\n",
    "y = df['WIND']"
   ]
  },
  {
   "cell_type": "code",
   "execution_count": 15,
   "metadata": {
    "execution": {
     "iopub.execute_input": "2022-10-11T19:47:02.811842Z",
     "iopub.status.busy": "2022-10-11T19:47:02.811486Z",
     "iopub.status.idle": "2022-10-11T19:47:03.090279Z",
     "shell.execute_reply": "2022-10-11T19:47:03.089331Z",
     "shell.execute_reply.started": "2022-10-11T19:47:02.811796Z"
    }
   },
   "outputs": [
    {
     "name": "stdout",
     "output_type": "stream",
     "text": [
      "Training dataset shape: (4404, 10) (4404,)\n",
      "Testing dataset shape: (2170, 10) (2170,)\n"
     ]
    }
   ],
   "source": [
    "from sklearn.model_selection import train_test_split\n",
    "\n",
    "X_train, X_test, y_train, y_test = train_test_split(X, y, test_size=0.33, random_state=123)\n",
    "\n",
    "print('Training dataset shape:', X_train.shape, y_train.shape)\n",
    "print('Testing dataset shape:', X_test.shape, y_test.shape)"
   ]
  },
  {
   "cell_type": "code",
   "execution_count": 16,
   "metadata": {
    "execution": {
     "iopub.execute_input": "2022-10-11T19:47:03.094089Z",
     "iopub.status.busy": "2022-10-11T19:47:03.093808Z",
     "iopub.status.idle": "2022-10-11T19:47:03.312491Z",
     "shell.execute_reply": "2022-10-11T19:47:03.311416Z",
     "shell.execute_reply.started": "2022-10-11T19:47:03.094054Z"
    }
   },
   "outputs": [
    {
     "name": "stdout",
     "output_type": "stream",
     "text": [
      "MAE: 3.832733574687409\n",
      "MSE: 22.82979600049777\n",
      "RMSE: 4.778053578654991\n"
     ]
    }
   ],
   "source": [
    "# Linear Regression\n",
    "\n",
    "from sklearn.linear_model import LinearRegression\n",
    "from sklearn import metrics\n",
    "\n",
    "lin_reg = LinearRegression()\n",
    "lin_reg.fit(X_train, y_train)\n",
    "lin_pred = lin_reg.predict(X_test)\n",
    "\n",
    "print('MAE:', metrics.mean_absolute_error(y_test, lin_pred))\n",
    "print('MSE:', metrics.mean_squared_error(y_test, lin_pred))\n",
    "print('RMSE:', np.sqrt(metrics.mean_squared_error(y_test, lin_pred)))"
   ]
  },
  {
   "cell_type": "code",
   "execution_count": 17,
   "metadata": {
    "execution": {
     "iopub.execute_input": "2022-10-11T19:47:03.315428Z",
     "iopub.status.busy": "2022-10-11T19:47:03.314094Z",
     "iopub.status.idle": "2022-10-11T19:47:03.545747Z",
     "shell.execute_reply": "2022-10-11T19:47:03.544953Z",
     "shell.execute_reply.started": "2022-10-11T19:47:03.315377Z"
    }
   },
   "outputs": [
    {
     "name": "stdout",
     "output_type": "stream",
     "text": [
      "MAE: 4.753414746543779\n",
      "MSE: 37.449388248847924\n",
      "RMSE: 6.11959052950832\n"
     ]
    }
   ],
   "source": [
    "# Decision Tree\n",
    "\n",
    "from sklearn.tree import DecisionTreeRegressor\n",
    "\n",
    "dtr = DecisionTreeRegressor()\n",
    "dtr.fit(X_train, y_train)\n",
    "dtr_pred = dtr.predict(X_test)\n",
    "\n",
    "print('MAE:', metrics.mean_absolute_error(y_test, dtr_pred))\n",
    "print('MSE:', metrics.mean_squared_error(y_test, dtr_pred))\n",
    "print('RMSE:', np.sqrt(metrics.mean_squared_error(y_test, dtr_pred)))"
   ]
  },
  {
   "cell_type": "code",
   "execution_count": 18,
   "metadata": {
    "execution": {
     "iopub.execute_input": "2022-10-11T19:47:03.550031Z",
     "iopub.status.busy": "2022-10-11T19:47:03.549301Z",
     "iopub.status.idle": "2022-10-11T19:47:04.418619Z",
     "shell.execute_reply": "2022-10-11T19:47:04.417521Z",
     "shell.execute_reply.started": "2022-10-11T19:47:03.549980Z"
    }
   },
   "outputs": [
    {
     "name": "stdout",
     "output_type": "stream",
     "text": [
      "MAE: 3.7144016440301515\n",
      "MSE: 21.72861596094446\n",
      "RMSE: 4.661396353126867\n"
     ]
    }
   ],
   "source": [
    "# Random Forest Regressor\n",
    "\n",
    "from sklearn.ensemble import RandomForestRegressor\n",
    "\n",
    "rfr = RandomForestRegressor(max_depth=2, random_state=0)\n",
    "rfr.fit(X_train, y_train)\n",
    "rfr_pred = rfr.predict(X_test)\n",
    "\n",
    "print('MAE:', metrics.mean_absolute_error(y_test, rfr_pred))\n",
    "print('MSE:', metrics.mean_squared_error(y_test, rfr_pred))\n",
    "print('RMSE:', np.sqrt(metrics.mean_squared_error(y_test, rfr_pred)))"
   ]
  }
 ],
 "metadata": {
  "kernelspec": {
   "display_name": "Python 3 (ipykernel)",
   "language": "python",
   "name": "python3"
  },
  "language_info": {
   "codemirror_mode": {
    "name": "ipython",
    "version": 3
   },
   "file_extension": ".py",
   "mimetype": "text/x-python",
   "name": "python",
   "nbconvert_exporter": "python",
   "pygments_lexer": "ipython3",
   "version": "3.9.12"
  }
 },
 "nbformat": 4,
 "nbformat_minor": 4
}
